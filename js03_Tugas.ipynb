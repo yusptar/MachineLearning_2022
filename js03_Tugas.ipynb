{
  "cells": [
    {
      "cell_type": "markdown",
      "metadata": {
        "id": "view-in-github",
        "colab_type": "text"
      },
      "source": [
        "<a href=\"https://colab.research.google.com/github/yusptar/naive-bayes/blob/main/js03_Tugas.ipynb\" target=\"_parent\"><img src=\"https://colab.research.google.com/assets/colab-badge.svg\" alt=\"Open In Colab\"/></a>"
      ]
    },
    {
      "cell_type": "markdown",
      "metadata": {
        "id": "_8eSRaQOZrLl"
      },
      "source": [
        "# Tugas\n",
        "\n",
        "## Tugas 1\n",
        "\n",
        "Buatlah model klasfikasi Multinomial Naive Bayes dengan ketentuan,\n",
        "\n",
        "1. Menggunakan data `spam.csv`\n",
        "2. Fitur `CountVectorizer` dengan mengaktifkan **stop_words**\n",
        "3. Evaluasi hasilnya\n",
        "\n",
        "## Tugas 2\n",
        "\n",
        "Buatlah model klasfikasi Multinomial Naive Bayes dengan ketentuan,\n",
        "\n",
        "1. Menggunakan data `spam.csv`\n",
        "2. Fitur `TF-IDF` dengan mengaktifkan **stop_words**\n",
        "3. Evaluasi hasilnya dan bandingkan dengan hasil tugas 1.\n",
        "4. Berikan kesimpulan fitur mana yang terbaik pada kasus data `spam.csv`"
      ]
    },
    {
      "cell_type": "markdown",
      "metadata": {
        "id": "3l0uKTRNZrLr"
      },
      "source": []
    }
  ],
  "metadata": {
    "kernelspec": {
      "display_name": "Python 3.7.6 ('base')",
      "language": "python",
      "name": "python3"
    },
    "language_info": {
      "name": "python",
      "version": "3.7.6"
    },
    "orig_nbformat": 4,
    "vscode": {
      "interpreter": {
        "hash": "7e96b86f03d7d42bb76aac26192874394f42efe9d96b48d22368bab7dabddb55"
      }
    },
    "colab": {
      "provenance": [],
      "include_colab_link": true
    }
  },
  "nbformat": 4,
  "nbformat_minor": 0
}