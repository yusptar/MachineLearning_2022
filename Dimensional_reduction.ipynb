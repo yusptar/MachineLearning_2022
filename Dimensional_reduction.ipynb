{
  "cells": [
    {
      "cell_type": "markdown",
      "metadata": {
        "id": "view-in-github",
        "colab_type": "text"
      },
      "source": [
        "<a href=\"https://colab.research.google.com/github/yusptar/MachineLearning_2022/blob/main/Dimensional_reduction.ipynb\" target=\"_parent\"><img src=\"https://colab.research.google.com/assets/colab-badge.svg\" alt=\"Open In Colab\"/></a>"
      ]
    },
    {
      "cell_type": "markdown",
      "id": "eGXm4T4DnmCx",
      "metadata": {
        "id": "eGXm4T4DnmCx"
      },
      "source": [
        "Dengan ketersediaan CPU dan GPU berperforma tinggi, sangat mungkin untuk menyelesaikan setiap proses regresi, klasifikasi, pengelompokan, dan masalah terkait lainnya menggunakan pembelajaran mesin dan model pembelajaran secara mendalam. Namun, masih ada berbagai bagian yang menyebabkan kemacetan kinerja saat mengembangkan model tersebut. Sejumlah besar fitur dalam kumpulan data adalah salah satu faktor utama yang memengaruhi waktu pelatihan serta keakuratan model dalam machine learning/pembelajaran mesin.\n",
        "\n",
        "Permasalahan Dimensi disebut oleh ahli matematika R. Bellman dalam bukunya \"Dynamic Programming\" pada tahun 1957. Menurutnya, permasalahan dimensi adalah masalah yang disebabkan oleh peningkatan volume eksponensial yang terkait dengan penambahan dimensi ekstra ke ruang Euclidean. Dalam pembelajaran mesin, \"dimensionalitas\" merujuk pada jumlah fitur (yaitu variabel masukan) dalam kumpulan data. \n",
        "\n",
        "Sementara kinerja model pembelajaran mesin apapun, akan meningkat jika dilakukan penambahan fitur tambahan, di beberapa titik penyisipan lebih lanjut mengarah pada penurunan kinerja yaitu ketika jumlah fitur sangat besar dan sepadan dengan jumlah pengamatan dalam sekelompok kumpulan data, beberapa algoritme linier berusaha extra untuk dapat melatih model yang lebih efisien.\n",
        "Problem dimensi pada dasarnya berarti bahwa kesalahan meningkat dengan bertambahnya jumlah fitur. Ini mengacu pada fakta bahwa algoritma lebih sulit untuk dirancang dalam dimensi tinggi dan seringkali memiliki peningkatan waktu secara eksponensial.\n",
        "\n",
        "Maka dibutuhkan cara yang lebih baik untuk menangani data berdimensi tinggi sehingga dapat dengan cepat mengekstrak pola dan khowledge darinya. \n",
        "Jadi bagaimana cara untuk mendapatkan kumpulan data seperti itu? Maka digunakanlah teknik dimensional reduction/pengurangan dimensi, untuk mengurangi jumlah fitur dalam kumpulan data tanpa harus kehilangan banyak informasi dan mempertahankan (atau meningkatkan) kinerja model.\n",
        "\n",
        "Pengurangan dimensi/dimensional reduction adalah seperangkat teknik yang mempelajari cara mengecilkan ukuran data namun sambil tetap mempertahankan informasi yang paling penting dan selanjutnya mengatasi permasalahan dimensi. Teknik ini memainkan peran penting dalam masalah kinerja proses klasifikasi dan clustering.\n",
        "\n",
        "![overview](aseets/overview.PNG)\n"
      ]
    },
    {
      "cell_type": "markdown",
      "id": "b2b4b075",
      "metadata": {
        "id": "b2b4b075"
      },
      "source": [
        "# Dimensionality Reduction Techniques"
      ]
    },
    {
      "cell_type": "markdown",
      "id": "1e42f968",
      "metadata": {
        "id": "1e42f968"
      },
      "source": [
        "![Alt text](aseets/image.PNG)"
      ]
    },
    {
      "cell_type": "code",
      "execution_count": null,
      "id": "14b54581",
      "metadata": {
        "id": "14b54581"
      },
      "outputs": [],
      "source": [
        "# import required libraries\n",
        "import pandas as pd\n",
        "import numpy as np\n",
        "import matplotlib.pyplot as plt"
      ]
    },
    {
      "cell_type": "code",
      "execution_count": null,
      "id": "12c2fac3",
      "metadata": {
        "id": "12c2fac3"
      },
      "outputs": [],
      "source": [
        "# read the data\n",
        "train=pd.read_csv(\"train.csv\")\n",
        "train.head()"
      ]
    },
    {
      "cell_type": "code",
      "execution_count": null,
      "id": "77230d6c",
      "metadata": {
        "id": "77230d6c",
        "outputId": "af74ef92-1ea0-4765-8fad-efeebb5ee30c"
      },
      "outputs": [
        {
          "data": {
            "text/plain": [
              "Item_Identifier                 0\n",
              "Item_Weight                  1463\n",
              "Item_Fat_Content                0\n",
              "Item_Visibility                 0\n",
              "Item_Type                       0\n",
              "Item_MRP                        0\n",
              "Outlet_Identifier               0\n",
              "Outlet_Establishment_Year       0\n",
              "Outlet_Size                  2410\n",
              "Outlet_Location_Type            0\n",
              "Outlet_Type                     0\n",
              "Item_Outlet_Sales               0\n",
              "dtype: int64"
            ]
          },
          "execution_count": 4,
          "metadata": {},
          "output_type": "execute_result"
        }
      ],
      "source": [
        "# checking the percentage of missing values in each variable\n",
        "train.isnull().sum()"
      ]
    },
    {
      "cell_type": "code",
      "execution_count": null,
      "id": "26b21639",
      "metadata": {
        "id": "26b21639",
        "outputId": "c9985e47-f868-4f55-d191-e1974a59e08d"
      },
      "outputs": [
        {
          "data": {
            "text/plain": [
              "Item_Identifier               0.000000\n",
              "Item_Weight                  17.165317\n",
              "Item_Fat_Content              0.000000\n",
              "Item_Visibility               0.000000\n",
              "Item_Type                     0.000000\n",
              "Item_MRP                      0.000000\n",
              "Outlet_Identifier             0.000000\n",
              "Outlet_Establishment_Year     0.000000\n",
              "Outlet_Size                  28.276428\n",
              "Outlet_Location_Type          0.000000\n",
              "Outlet_Type                   0.000000\n",
              "Item_Outlet_Sales             0.000000\n",
              "dtype: float64"
            ]
          },
          "execution_count": 5,
          "metadata": {},
          "output_type": "execute_result"
        }
      ],
      "source": [
        "train.isnull().sum()/len(train)*100"
      ]
    },
    {
      "cell_type": "code",
      "execution_count": null,
      "id": "5003fbd6",
      "metadata": {
        "id": "5003fbd6"
      },
      "outputs": [],
      "source": [
        "# remove the variables having more than 20% missing variables\n",
        "# saving missing values in a variable\n",
        "a = train.isnull().sum()/len(train)*100\n",
        "# saving column names in a variable\n",
        "variables = train.columns\n",
        "variable = [ ]\n",
        "for i in range(0,12):\n",
        "    if a[i]<=20:   #setting the threshold as 20%\n",
        "        variable.append(variables[i])"
      ]
    },
    {
      "cell_type": "code",
      "execution_count": null,
      "id": "cfc11e1e",
      "metadata": {
        "id": "cfc11e1e"
      },
      "outputs": [],
      "source": [
        "variable"
      ]
    },
    {
      "cell_type": "markdown",
      "id": "3717d264",
      "metadata": {
        "id": "3717d264"
      },
      "source": [
        "Kita perlu menghitung varian dari setiap variabel yang diberikan. Kemudian drop variabel yang memiliki varians rendah dibandingkan dengan variabel lain dalam kumpulan dataset. Alasan melakukan ini adalah bahwa variabel dengan varian rendah tidak akan mempengaruhi variabel target/label."
      ]
    },
    {
      "cell_type": "code",
      "execution_count": null,
      "id": "90f003e6",
      "metadata": {
        "id": "90f003e6"
      },
      "outputs": [],
      "source": [
        "# Missing Value imputation\n",
        "train['Item_Weight'].fillna(train['Item_Weight'].median(), inplace=True)\n",
        "train['Outlet_Size'].fillna(train['Outlet_Size'].mode()[0], inplace=True)"
      ]
    },
    {
      "cell_type": "code",
      "execution_count": null,
      "id": "a8cb5d08",
      "metadata": {
        "id": "a8cb5d08",
        "outputId": "547f3420-1a4a-4cad-d824-1d5ec755904d"
      },
      "outputs": [
        {
          "data": {
            "text/plain": [
              "Item_Identifier              0.0\n",
              "Item_Weight                  0.0\n",
              "Item_Fat_Content             0.0\n",
              "Item_Visibility              0.0\n",
              "Item_Type                    0.0\n",
              "Item_MRP                     0.0\n",
              "Outlet_Identifier            0.0\n",
              "Outlet_Establishment_Year    0.0\n",
              "Outlet_Size                  0.0\n",
              "Outlet_Location_Type         0.0\n",
              "Outlet_Type                  0.0\n",
              "Item_Outlet_Sales            0.0\n",
              "dtype: float64"
            ]
          },
          "execution_count": 9,
          "metadata": {},
          "output_type": "execute_result"
        }
      ],
      "source": [
        "train.isnull().sum()/len(train)*100"
      ]
    },
    {
      "cell_type": "code",
      "execution_count": null,
      "id": "136a9812",
      "metadata": {
        "id": "136a9812",
        "outputId": "9e17de0a-8913-43e8-fccd-f19b261a735e"
      },
      "outputs": [
        {
          "data": {
            "text/plain": [
              "Item_Weight                  1.786956e+01\n",
              "Item_Visibility              2.662335e-03\n",
              "Item_MRP                     3.878184e+03\n",
              "Outlet_Establishment_Year    7.008637e+01\n",
              "Item_Outlet_Sales            2.912141e+06\n",
              "dtype: float64"
            ]
          },
          "execution_count": 10,
          "metadata": {},
          "output_type": "execute_result"
        }
      ],
      "source": [
        "# Variance calculation\n",
        "train.var()"
      ]
    },
    {
      "cell_type": "code",
      "execution_count": null,
      "id": "5e11da95",
      "metadata": {
        "id": "5e11da95"
      },
      "outputs": [],
      "source": [
        "numeric = train[['Item_Weight', 'Item_Visibility', 'Item_MRP', 'Outlet_Establishment_Year']]\n",
        "var = numeric.var()\n",
        "numeric = numeric.columns\n",
        "variable = []\n",
        "for i in range(0,len(var)):\n",
        "    if var[i]>=10:   #setting the threshold as 10%\n",
        "       variable.append(numeric[i])\n"
      ]
    },
    {
      "cell_type": "code",
      "execution_count": null,
      "id": "e1747815",
      "metadata": {
        "id": "e1747815",
        "outputId": "e6f09670-3757-41d2-8fec-19e2560091c7"
      },
      "outputs": [
        {
          "data": {
            "text/plain": [
              "['Item_Weight', 'Item_MRP', 'Outlet_Establishment_Year']"
            ]
          },
          "execution_count": 14,
          "metadata": {},
          "output_type": "execute_result"
        }
      ],
      "source": [
        "variable"
      ]
    },
    {
      "cell_type": "markdown",
      "id": "45c566fc",
      "metadata": {
        "id": "45c566fc"
      },
      "source": [
        "## Factor analysis"
      ]
    },
    {
      "cell_type": "code",
      "execution_count": null,
      "id": "facebfab",
      "metadata": {
        "id": "facebfab"
      },
      "outputs": [],
      "source": [
        "import pandas as pd\n",
        "import numpy as np\n",
        "from glob import glob\n",
        "import cv2\n",
        "images = [cv2.imread(file) for file in glob('/content/drive/MyDrive/Colab Notebooks/train_.zip (Unzipped Files)/train/*.png')]"
      ]
    },
    {
      "cell_type": "code",
      "execution_count": null,
      "id": "abb03875",
      "metadata": {
        "id": "abb03875",
        "outputId": "6c29189f-b783-444b-932e-c8dfd59383bf"
      },
      "outputs": [
        {
          "data": {
            "text/plain": [
              "(60000, 28, 28, 3)"
            ]
          },
          "execution_count": 33,
          "metadata": {},
          "output_type": "execute_result"
        }
      ],
      "source": [
        "images = np.array(images)\n",
        "images.shape"
      ]
    },
    {
      "cell_type": "code",
      "execution_count": null,
      "id": "bb88d2fa",
      "metadata": {
        "id": "bb88d2fa"
      },
      "outputs": [],
      "source": [
        "image = []\n",
        "for i in range(0,60000):\n",
        "    img = images[i].flatten()\n",
        "    image.append(img)\n",
        "image = np.array(image)"
      ]
    },
    {
      "cell_type": "code",
      "execution_count": null,
      "id": "283b549e",
      "metadata": {
        "id": "283b549e"
      },
      "outputs": [],
      "source": [
        "train = pd.read_csv(\"train_/train.csv\")     # Give the complete path of your train.csv file\n",
        "feat_cols = [ 'pixel'+str(i) for i in range(image.shape[1]) ]\n",
        "df = pd.DataFrame(image,columns=feat_cols)\n",
        "df['label'] = train['label']"
      ]
    },
    {
      "cell_type": "code",
      "execution_count": null,
      "id": "936dda1c",
      "metadata": {
        "id": "936dda1c"
      },
      "outputs": [],
      "source": [
        "from sklearn.decomposition import FactorAnalysis\n",
        "FA = FactorAnalysis(n_components = 3).fit_transform(df[feat_cols].values)"
      ]
    },
    {
      "cell_type": "code",
      "execution_count": null,
      "id": "f3f7f2f2",
      "metadata": {
        "id": "f3f7f2f2",
        "outputId": "31eeae96-fded-4d12-a673-b90b1a9b8079"
      },
      "outputs": [
        {
          "data": {
            "text/plain": [
              "<matplotlib.collections.PathCollection at 0x2934c6cf610>"
            ]
          },
          "execution_count": 38,
          "metadata": {},
          "output_type": "execute_result"
        },
        {
          "data": {
            "image/png": "[encoded data removed]",
            "text/plain": [
              "<Figure size 864x576 with 1 Axes>"
            ]
          },
          "metadata": {
            "needs_background": "light"
          },
          "output_type": "display_data"
        }
      ],
      "source": [
        "%matplotlib inline\n",
        "import matplotlib.pyplot as plt\n",
        "plt.figure(figsize=(12,8))\n",
        "plt.title('Factor Analysis Components')\n",
        "plt.scatter(FA[:,0], FA[:,1])\n",
        "plt.scatter(FA[:,1], FA[:,2])\n",
        "plt.scatter(FA[:,2],FA[:,0])"
      ]
    },
    {
      "cell_type": "markdown",
      "id": "1fd826b3",
      "metadata": {
        "id": "1fd826b3"
      },
      "source": [
        "Sulit untuk mengamati faktor-faktor ini satu per satu, tetapi tujuan mengurangi dimensi data telah berhasil."
      ]
    },
    {
      "cell_type": "markdown",
      "id": "af4530cf",
      "metadata": {
        "id": "af4530cf"
      },
      "source": [
        "## Principal Component Analysis (PCA)"
      ]
    },
    {
      "cell_type": "markdown",
      "id": "df615b5d",
      "metadata": {
        "id": "df615b5d"
      },
      "source": [
        "PCA adalah teknik yang membantu kita mengekstrak satu set variabel baru dari satu set variabel besar yang ada. Variabel yang baru diekstraksi ini disebut Principal Components."
      ]
    },
    {
      "cell_type": "code",
      "execution_count": null,
      "id": "9305f733",
      "metadata": {
        "id": "9305f733"
      },
      "outputs": [],
      "source": [
        "rndperm = np.random.permutation(df.shape[0])\n",
        "plt.gray()\n",
        "fig = plt.figure(figsize=(20,10))\n",
        "for i in range(0,15):\n",
        "    ax = fig.add_subplot(3,5,i+1)\n",
        "    ax.matshow(df.loc[rndperm[i],feat_cols].values.reshape((28,28*3)).astype(float))\n"
      ]
    },
    {
      "cell_type": "code",
      "execution_count": null,
      "id": "df06d797",
      "metadata": {
        "id": "df06d797"
      },
      "outputs": [],
      "source": [
        "from sklearn.decomposition import PCA\n",
        "pca = PCA(n_components=4)\n",
        "pca_result = pca.fit_transform(df[feat_cols].values)"
      ]
    },
    {
      "cell_type": "markdown",
      "id": "4d7280de",
      "metadata": {
        "id": "4d7280de"
      },
      "source": [
        "In this case, n_components will decide the number of principal components in the transformed data. Let’s visualize how much variance has been explained using these 4 components. We will use explained_variance_ratio_ to calculate the same."
      ]
    },
    {
      "cell_type": "code",
      "execution_count": null,
      "id": "8fe4b7ec",
      "metadata": {
        "id": "8fe4b7ec"
      },
      "outputs": [],
      "source": [
        "plt.plot(range(4), pca.explained_variance_ratio_)\n",
        "plt.plot(range(4), np.cumsum(pca.explained_variance_ratio_))\n"
      ]
    },
    {
      "cell_type": "code",
      "execution_count": null,
      "id": "5ce1c5fc",
      "metadata": {
        "id": "5ce1c5fc"
      },
      "outputs": [],
      "source": [
        "import seaborn as sns\n",
        "plt.style.use('fivethirtyeight')\n",
        "fig, axarr = plt.subplots(2, 2, figsize=(12, 8))\n",
        "sns.heatmap(pca.components_[0, :].reshape(28, 84), ax=axarr[0][0], cmap='gray_r')\n",
        "sns.heatmap(pca.components_[1, :].reshape(28, 84), ax=axarr[0][1], cmap='gray_r')\n",
        "sns.heatmap(pca.components_[2, :].reshape(28, 84), ax=axarr[1][0], cmap='gray_r')\n",
        "sns.heatmap(pca.components_[3, :].reshape(28, 84), ax=axarr[1][1], cmap='gray_r')\n",
        "axarr[0][0].set_title(\n",
        "\"{0:.2f}% Explained Variance\".format(pca.explained_variance_ratio_[0]*100),\n",
        "fontsize=12\n",
        ")\n",
        "axarr[0][1].set_title(\n",
        "\"{0:.2f}% Explained Variance\".format(pca.explained_variance_ratio_[1]*100),\n",
        "fontsize=12\n",
        ")\n",
        "axarr[1][0].set_title(\n",
        "\"{0:.2f}% Explained Variance\".format(pca.explained_variance_ratio_[2]*100),\n",
        "fontsize=12\n",
        ")\n",
        "axarr[1][1].set_title(\n",
        "\"{0:.2f}% Explained Variance\".format(pca.explained_variance_ratio_[3]*100),\n",
        "fontsize=12\n",
        ")\n",
        "axarr[0][0].set_aspect('equal')\n",
        "axarr[0][1].set_aspect('equal')\n",
        "axarr[1][0].set_aspect('equal')\n",
        "axarr[1][1].set_aspect('equal')\n",
        "\n",
        "plt.suptitle('4-Component PCA')"
      ]
    },
    {
      "cell_type": "code",
      "execution_count": null,
      "id": "93e0ba19",
      "metadata": {
        "id": "93e0ba19"
      },
      "outputs": [],
      "source": [
        "from sklearn.decomposition import TruncatedSVD \n",
        "svd = TruncatedSVD(n_components=3, random_state=42).fit_transform(df[feat_cols].values)"
      ]
    },
    {
      "cell_type": "code",
      "execution_count": null,
      "id": "fe9ea1b2",
      "metadata": {
        "id": "fe9ea1b2"
      },
      "outputs": [],
      "source": [
        "plt.figure(figsize=(12,8))\n",
        "plt.title('SVD Components')\n",
        "plt.scatter(svd[:,0], svd[:,1])\n",
        "plt.scatter(svd[:,1], svd[:,2])\n",
        "plt.scatter(svd[:,2],svd[:,0])"
      ]
    },
    {
      "cell_type": "markdown",
      "id": "a8446a04",
      "metadata": {
        "id": "a8446a04"
      },
      "source": [
        "> <b>Missing Value Ratio</b>: Jika kumpulan data memiliki terlalu banyak nilai yang hilang, perlu menggunakan pendekatan ini untuk mengurangi jumlah variabel. Kita dapat membuang variabel yang memiliki banyak nilai yang hilang di dalamnya\n",
        "\n",
        "> <b>Factor Analysis</b>: Teknik ini paling cocok untuk situasi di mana kita memiliki kumpulan variabel yang sangat berkorelasi. Teknik ini membagi variabel berdasarkan korelasinya ke dalam kelompok yang berbeda, dan mewakili setiap kelompok dengan sebuah faktor\n",
        "\n",
        "> <b>Principal Component Analysis</b>: Ini adalah salah satu teknik yang paling banyak digunakan untuk menangani data linier. Tekni ini membagi data menjadi satu set komponen dengan cara menjelaskan varians sebanyak mungkin"
      ]
    },
    {
      "cell_type": "markdown",
      "id": "8544efdc",
      "metadata": {
        "id": "8544efdc"
      },
      "source": [
        "## References:\n",
        "[Dimensionality Reduction](https://www.kdnuggets.com/2020/05/dimensionality-reduction-principal-component-analysis.html)<br>\n",
        "[Dimensionality Reduction Techniques](https://www.analyticsvidhya.com/blog/2018/08/dimensionality-reduction-techniques-python/)<br>"
      ]
    }
  ],
  "metadata": {
    "colab": {
      "provenance": [],
      "include_colab_link": true
    },
    "kernelspec": {
      "display_name": "Python 3.10.4 64-bit",
      "language": "python",
      "name": "python3"
    },
    "language_info": {
      "codemirror_mode": {
        "name": "ipython",
        "version": 3
      },
      "file_extension": ".py",
      "mimetype": "text/x-python",
      "name": "python",
      "nbconvert_exporter": "python",
      "pygments_lexer": "ipython3",
      "version": "3.10.4"
    },
    "vscode": {
      "interpreter": {
        "hash": "369f2c481f4da34e4445cda3fffd2e751bd1c4d706f27375911949ba6bb62e1c"
      }
    }
  },
  "nbformat": 4,
  "nbformat_minor": 5
}